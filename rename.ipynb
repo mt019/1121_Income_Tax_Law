{
 "cells": [
  {
   "cell_type": "code",
   "execution_count": 2,
   "metadata": {},
   "outputs": [
    {
     "name": "stdout",
     "output_type": "stream",
     "text": [
      "当前路径是: d:\\NTU\\_1121\\1121_Income_Tax_Law\n"
     ]
    }
   ],
   "source": [
    "import os\n",
    "import shutil\n",
    "\n",
    "# 获取当前工作目录\n",
    "current_directory = os.getcwd()\n",
    "\n",
    "# 要更改的文件夾路徑\n",
    "# folder_path = r\"D:\\NTU\\_1121\\1121_Income_Tax_Law\"\n",
    "\n",
    "# 显示当前工作目录\n",
    "print(\"当前路径是:\", current_directory)\n",
    "\n",
    "folder_path = current_directory\n",
    "\n",
    "# 源路径（A路径）和目标路径（B路径）\n",
    "source_path = r'D:\\NTU\\_1121\\Prof_Ko_1121'\n",
    "destination_path = folder_path\n"
   ]
  },
  {
   "cell_type": "markdown",
   "metadata": {},
   "source": [
    "複製文檔過來"
   ]
  },
  {
   "cell_type": "code",
   "execution_count": 2,
   "metadata": {},
   "outputs": [
    {
     "name": "stdout",
     "output_type": "stream",
     "text": [
      "文件复制完成\n"
     ]
    }
   ],
   "source": [
    "\n",
    "# 遍历A路径中的所有子文件夹和文件\n",
    "for root, dirs, files in os.walk(source_path):\n",
    "    for file in files:\n",
    "        if '所得稅法' in file and file.endswith('.txt'):\n",
    "            source_file = os.path.join(root, file)\n",
    "            destination_file = os.path.join(destination_path, file)\n",
    "            \n",
    "            # 复制文件\n",
    "            shutil.copy(source_file, destination_file)\n",
    "\n",
    "print(\"文件复制完成\")\n"
   ]
  },
  {
   "cell_type": "markdown",
   "metadata": {},
   "source": [
    "重命名，.txt to .rmd，并且於内文添加大標題"
   ]
  },
  {
   "cell_type": "code",
   "execution_count": 3,
   "metadata": {},
   "outputs": [],
   "source": [
    "import os\n",
    "\n",
    "def rename_and_add_filename_to_rmd(folder_path):\n",
    "    # Ensure the folder path exists\n",
    "    if not os.path.isdir(folder_path):\n",
    "        print(f\"The folder {folder_path} does not exist.\")\n",
    "        return\n",
    "    \n",
    "    # Get all file names in the specified folder\n",
    "    files = os.listdir(folder_path)\n",
    "    \n",
    "    for filename in files:\n",
    "        if filename.endswith(\"_所得稅法一.txt\"):\n",
    "            # Construct the new file name and file paths\n",
    "            new_filename = filename.replace(\"_所得稅法一.txt\", \".rmd\")\n",
    "            old_filepath = os.path.join(folder_path, filename)\n",
    "            new_filepath = os.path.join(folder_path, new_filename)\n",
    "            \n",
    "            # Check if the new file already exists and delete it if so\n",
    "            if os.path.exists(new_filepath):\n",
    "                os.remove(new_filepath)\n",
    "            \n",
    "            # Rename the file (now safe, as any existing file has been removed)\n",
    "            os.rename(old_filepath, new_filepath)\n",
    "            \n",
    "            # Update the file's contents\n",
    "            with open(new_filepath, 'r', encoding='utf-8') as rmd_file:\n",
    "                content = rmd_file.read()\n",
    "            with open(new_filepath, 'w', encoding='utf-8') as rmd_file:\n",
    "                rmd_file.write(\"# \" + os.path.splitext(new_filename)[0] + \"\\n\\n\" + content)\n",
    "\n",
    "# Example usage:\n",
    "# folder_path = '/path/to/your/folder'\n",
    "rename_and_add_filename_to_rmd(folder_path)\n"
   ]
  },
  {
   "cell_type": "markdown",
   "metadata": {},
   "source": [
    "If you're encountering a FileExistsError because a file with the target name already exists and you wish to overwrite the existing files with the new contents, you can modify the script to handle this situation. Here's an updated version of the script that will overwrite any existing .rmd files with the same name:"
   ]
  },
  {
   "cell_type": "markdown",
   "metadata": {},
   "source": [
    "This version of the script will check for an existing file with the same .rmd name and delete it before renaming the .txt file. This ensures that the renaming process won't fail due to an existing file and will effectively overwrite any .rmd files with the same name. Be aware that this approach will permanently delete the original .rmd files, so ensure that this behavior is acceptable for your use case before running the script."
   ]
  },
  {
   "cell_type": "markdown",
   "metadata": {},
   "source": [
    "# All in One"
   ]
  },
  {
   "cell_type": "code",
   "execution_count": 3,
   "metadata": {},
   "outputs": [],
   "source": [
    "import os\n",
    "\n",
    "# Define the directory where your .rmd files are located.\n",
    "directory = current_directory  # Replace with your folder path\n",
    "\n",
    "# Placeholder for the combined content\n",
    "combined_content = \"\"\n",
    "\n",
    "# Loop through each file in the directory\n",
    "for filename in sorted(os.listdir(directory)):\n",
    "    # Check if the file is an Rmd file\n",
    "    if filename.endswith(\".rmd\"):\n",
    "        # Extract the base name (without .rmd)\n",
    "        basename = filename[:-4]\n",
    "        # Read the content of the file\n",
    "        with open(os.path.join(directory, filename), 'r', encoding='utf-8') as file:\n",
    "            content = file.read()\n",
    "            # Add a header with the file name and then the content of the file to the combined content\n",
    "            combined_content += f\"\\n{content}\\n\"\n",
    "            # combined_content += f\"\\n# 【{basename}】\\n{content}\\n\"\n",
    "\n",
    "# Write the combined content to a new file: all.txt\n",
    "with open(r\"all.md\", 'w', encoding='utf-8') as file:\n",
    "    file.write(combined_content)\n"
   ]
  },
  {
   "cell_type": "code",
   "execution_count": null,
   "metadata": {},
   "outputs": [],
   "source": []
  }
 ],
 "metadata": {
  "kernelspec": {
   "display_name": "Python 3",
   "language": "python",
   "name": "python3"
  },
  "language_info": {
   "codemirror_mode": {
    "name": "ipython",
    "version": 3
   },
   "file_extension": ".py",
   "mimetype": "text/x-python",
   "name": "python",
   "nbconvert_exporter": "python",
   "pygments_lexer": "ipython3",
   "version": "3.12.0"
  },
  "orig_nbformat": 4
 },
 "nbformat": 4,
 "nbformat_minor": 2
}
