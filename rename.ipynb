{
 "cells": [
  {
   "cell_type": "code",
   "execution_count": 2,
   "metadata": {},
   "outputs": [
    {
     "name": "stdout",
     "output_type": "stream",
     "text": [
      "当前路径是: d:\\NTU\\_1121\\1121_Income_Tax_Law\n"
     ]
    }
   ],
   "source": [
    "import os\n",
    "import shutil\n",
    "\n",
    "# 获取当前工作目录\n",
    "current_directory = os.getcwd()\n",
    "\n",
    "# 要更改的文件夾路徑\n",
    "# folder_path = r\"D:\\NTU\\_1121\\1121_Income_Tax_Law\"\n",
    "\n",
    "# 显示当前工作目录\n",
    "print(\"当前路径是:\", current_directory)\n",
    "\n",
    "folder_path = current_directory\n",
    "\n",
    "# 源路径（A路径）和目标路径（B路径）\n",
    "source_path = r'D:\\NTU\\_1121\\Prof_Ko_1121'\n",
    "destination_path = folder_path\n"
   ]
  },
  {
   "cell_type": "markdown",
   "metadata": {},
   "source": [
    "複製文檔過來"
   ]
  },
  {
   "cell_type": "code",
   "execution_count": 4,
   "metadata": {},
   "outputs": [
    {
     "name": "stdout",
     "output_type": "stream",
     "text": [
      "文件复制完成\n"
     ]
    }
   ],
   "source": [
    "\n",
    "# 遍历A路径中的所有子文件夹和文件\n",
    "for root, dirs, files in os.walk(source_path):\n",
    "    for file in files:\n",
    "        if '所得稅法' in file and file.endswith('.txt'):\n",
    "            source_file = os.path.join(root, file)\n",
    "            destination_file = os.path.join(destination_path, file)\n",
    "            \n",
    "            # 复制文件\n",
    "            shutil.copy(source_file, destination_file)\n",
    "\n",
    "print(\"文件复制完成\")\n"
   ]
  },
  {
   "cell_type": "markdown",
   "metadata": {},
   "source": [
    "重命名，.txt to .rmd，并且於内文添加大標題"
   ]
  },
  {
   "cell_type": "code",
   "execution_count": 5,
   "metadata": {},
   "outputs": [],
   "source": [
    "import os\n",
    "\n",
    "# 定义一个函数来重命名文件，并添加文件名作为第一行内容\n",
    "def rename_and_add_filename_to_rmd(folder_path):\n",
    "    # 获取文件夹内所有文件名\n",
    "    files = os.listdir(folder_path)\n",
    "    \n",
    "    for filename in files:\n",
    "        if filename.endswith(\"_所得稅法一.txt\"):\n",
    "            new_filename = filename.replace(\"_所得稅法一.txt\", \".rmd\")  # 构建新文件名\n",
    "            old_filepath = os.path.join(folder_path, filename)\n",
    "            new_filepath = os.path.join(folder_path, new_filename)\n",
    "            # 重命名文件\n",
    "            os.rename(old_filepath, new_filepath)\n",
    "            # 创建新.rmd文件，并将新文件名作为第一行内容\n",
    "            with open(new_filepath, 'r', encoding='utf-8') as rmd_file:\n",
    "                content = rmd_file.read()\n",
    "            with open(new_filepath, 'w', encoding='utf-8') as rmd_file:\n",
    "                rmd_file.write(\"# \"+  os.path.splitext(new_filename)[0] + \"\\n\\n\" + content)\n",
    "\n",
    "# 指定要处理的文件夹路径\n",
    "# folder_path = '/path/to/your/folder'\n",
    "\n",
    "# 调用函数来重命名文件并添加文件名作为第一行内容\n",
    "rename_and_add_filename_to_rmd(folder_path)\n"
   ]
  },
  {
   "cell_type": "code",
   "execution_count": null,
   "metadata": {},
   "outputs": [],
   "source": []
  }
 ],
 "metadata": {
  "kernelspec": {
   "display_name": "Python 3",
   "language": "python",
   "name": "python3"
  },
  "language_info": {
   "codemirror_mode": {
    "name": "ipython",
    "version": 3
   },
   "file_extension": ".py",
   "mimetype": "text/x-python",
   "name": "python",
   "nbconvert_exporter": "python",
   "pygments_lexer": "ipython3",
   "version": "3.12.0"
  },
  "orig_nbformat": 4
 },
 "nbformat": 4,
 "nbformat_minor": 2
}
